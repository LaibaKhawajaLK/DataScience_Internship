{
 "cells": [
  {
   "cell_type": "code",
   "execution_count": 1,
   "id": "36a12667-831f-4deb-b77b-52fb8f3e3e71",
   "metadata": {},
   "outputs": [],
   "source": [
    "#Importing Required Libraries\n",
    "#We need libraries for data handling, preprocessing, feature extraction, and model training.\n",
    "\n",
    "import pandas as pd\n",
    "import numpy as np\n",
    "import re\n",
    "import nltk\n",
    "import matplotlib.pyplot as plt\n",
    "import seaborn as sns\n",
    "\n",
    "from nltk.corpus import stopwords\n",
    "from nltk.tokenize import word_tokenize\n",
    "from nltk.stem import WordNetLemmatizer\n",
    "from sklearn.feature_extraction.text import TfidfVectorizer\n",
    "from sklearn.model_selection import train_test_split\n",
    "from sklearn.naive_bayes import MultinomialNB\n",
    "from sklearn.linear_model import LogisticRegression\n",
    "from sklearn.metrics import accuracy_score, classification_report, confusion_matrix\n"
   ]
  },
  {
   "cell_type": "code",
   "execution_count": 2,
   "id": "1f4a0b60-8430-4c6d-9464-2ab94b67a0f6",
   "metadata": {},
   "outputs": [
    {
     "name": "stdout",
     "output_type": "stream",
     "text": [
      "                                              review sentiment\n",
      "0  One of the other reviewers has mentioned that ...  positive\n",
      "1  A wonderful little production. <br /><br />The...  positive\n",
      "2  I thought this was a wonderful way to spend ti...  positive\n",
      "3  Basically there's a family where a little boy ...  negative\n",
      "4  Petter Mattei's \"Love in the Time of Money\" is...  positive\n",
      "review       0\n",
      "sentiment    0\n",
      "dtype: int64\n",
      "(50000, 2)\n"
     ]
    }
   ],
   "source": [
    "# Loading dataset\n",
    "df = pd.read_csv(\"IMDB Dataset.csv\") \n",
    "\n",
    "# Displaying first few rows\n",
    "print(df.head())\n",
    "\n",
    "# Checking for missing values\n",
    "print(df.isnull().sum())\n",
    "\n",
    "# Checking dataset shape\n",
    "print(df.shape)\n"
   ]
  },
  {
   "cell_type": "code",
   "execution_count": 3,
   "id": "ffddcb4c-7ea4-492d-8f4f-12fbce6fb002",
   "metadata": {},
   "outputs": [
    {
     "name": "stderr",
     "output_type": "stream",
     "text": [
      "[nltk_data] Downloading package stopwords to\n",
      "[nltk_data]     C:\\Users\\PMYLS\\AppData\\Roaming\\nltk_data...\n",
      "[nltk_data]   Unzipping corpora\\stopwords.zip.\n",
      "[nltk_data] Downloading package punkt to\n",
      "[nltk_data]     C:\\Users\\PMYLS\\AppData\\Roaming\\nltk_data...\n",
      "[nltk_data]   Unzipping tokenizers\\punkt.zip.\n",
      "[nltk_data] Downloading package wordnet to\n",
      "[nltk_data]     C:\\Users\\PMYLS\\AppData\\Roaming\\nltk_data...\n"
     ]
    },
    {
     "name": "stdout",
     "output_type": "stream",
     "text": [
      "                                              review  \\\n",
      "0  One of the other reviewers has mentioned that ...   \n",
      "1  A wonderful little production. <br /><br />The...   \n",
      "2  I thought this was a wonderful way to spend ti...   \n",
      "3  Basically there's a family where a little boy ...   \n",
      "4  Petter Mattei's \"Love in the Time of Money\" is...   \n",
      "\n",
      "                                      cleaned_review  \n",
      "0  one reviewer mentioned watching 1 oz episode h...  \n",
      "1  wonderful little production br br filming tech...  \n",
      "2  thought wonderful way spend time hot summer we...  \n",
      "3  basically family little boy jake think zombie ...  \n",
      "4  petter mattei love time money visually stunnin...  \n"
     ]
    }
   ],
   "source": [
    "# Data Preprocessing\n",
    "#We clean the text by:\n",
    "\n",
    "#Removing punctuation, special characters, and converting text to lowercase.\n",
    "#Removing stopwords (like \"the\", \"is\", \"and\").\n",
    "#Performing lemmatization (converting words to their base form).\n",
    "\n",
    "nltk.download('stopwords')\n",
    "nltk.download('punkt')\n",
    "nltk.download('wordnet')\n",
    "\n",
    "# Initialize Lemmatizer\n",
    "lemmatizer = WordNetLemmatizer()\n",
    "stop_words = set(stopwords.words('english'))\n",
    "\n",
    "def clean_text(text):\n",
    "    text = re.sub(r'\\W', ' ', text)  # Remove special characters\n",
    "    text = text.lower()  # Convert to lowercase\n",
    "    words = word_tokenize(text)  # Tokenization\n",
    "    words = [lemmatizer.lemmatize(word) for word in words if word not in stop_words]  # Lemmatization and Stopword removal\n",
    "    return \" \".join(words)\n",
    "\n",
    "# Apply cleaning function\n",
    "df['cleaned_review'] = df['review'].apply(clean_text)\n",
    "\n",
    "# Display cleaned text\n",
    "print(df[['review', 'cleaned_review']].head())\n",
    "\n",
    "\n",
    "# Explaination\n",
    "  #Downloads NLTK resources.\n",
    "  #Defines clean_text() function to process the text.\n",
    "  #Applies function to clean all reviews.\n",
    "\n"
   ]
  },
  {
   "cell_type": "code",
   "execution_count": 4,
   "id": "1e447037-5ba3-46b0-9940-a378e32d81e1",
   "metadata": {},
   "outputs": [
    {
     "name": "stdout",
     "output_type": "stream",
     "text": [
      "Shape of Training Data: (40000, 5000)\n",
      "Shape of Testing Data: (10000, 5000)\n"
     ]
    }
   ],
   "source": [
    "#Feature Engineering (TF-IDF)\n",
    "#Convert text into numerical format using TF-IDF (Term Frequency - Inverse Document Frequency)\n",
    "# Convert text into TF-IDF features\n",
    "vectorizer = TfidfVectorizer(max_features=5000)\n",
    "X = vectorizer.fit_transform(df['cleaned_review'])\n",
    "\n",
    "# Encode sentiment labels (positive → 1, negative → 0)\n",
    "y = df['sentiment'].map({'positive': 1, 'negative': 0})\n",
    "\n",
    "# Split into training and testing sets (80% train, 20% test)\n",
    "X_train, X_test, y_train, y_test = train_test_split(X, y, test_size=0.2, random_state=42)\n",
    "\n",
    "print(\"Shape of Training Data:\", X_train.shape)\n",
    "print(\"Shape of Testing Data:\", X_test.shape)\n",
    "\n",
    "\n",
    "#Explanation:\n",
    "\n",
    "#TfidfVectorizer(max_features=5000) converts text into a numerical matrix.\n",
    "#train_test_split() splits the dataset into training (80%) and testing (20%)."
   ]
  },
  {
   "cell_type": "code",
   "execution_count": 5,
   "id": "d1897715-f6b6-41e6-8ad6-12261e4d3309",
   "metadata": {},
   "outputs": [
    {
     "name": "stdout",
     "output_type": "stream",
     "text": [
      "Naïve Bayes Model Performance:\n",
      "Accuracy: 0.8561\n",
      "              precision    recall  f1-score   support\n",
      "\n",
      "           0       0.86      0.85      0.85      4961\n",
      "           1       0.85      0.86      0.86      5039\n",
      "\n",
      "    accuracy                           0.86     10000\n",
      "   macro avg       0.86      0.86      0.86     10000\n",
      "weighted avg       0.86      0.86      0.86     10000\n",
      "\n",
      "Logistic Regression Model Performance:\n",
      "Accuracy: 0.8885\n",
      "              precision    recall  f1-score   support\n",
      "\n",
      "           0       0.90      0.87      0.89      4961\n",
      "           1       0.88      0.90      0.89      5039\n",
      "\n",
      "    accuracy                           0.89     10000\n",
      "   macro avg       0.89      0.89      0.89     10000\n",
      "weighted avg       0.89      0.89      0.89     10000\n",
      "\n"
     ]
    }
   ],
   "source": [
    "#Train Sentiment Analysis Model\n",
    "#We train two models: Naïve Bayes and Logistic Regression.\n",
    "\n",
    "#Model 1: Naïve Bayes\n",
    "# Train Naïve Bayes model\n",
    "nb_model = MultinomialNB()\n",
    "nb_model.fit(X_train, y_train)\n",
    "\n",
    "# Predict on test data\n",
    "y_pred_nb = nb_model.predict(X_test)\n",
    "\n",
    "# Evaluate performance\n",
    "print(\"Naïve Bayes Model Performance:\")\n",
    "print(\"Accuracy:\", accuracy_score(y_test, y_pred_nb))\n",
    "print(classification_report(y_test, y_pred_nb))\n",
    "\n",
    "\n",
    "#Model 2: Logistic Regression\n",
    "# Train Logistic Regression model\n",
    "lr_model = LogisticRegression(max_iter=200)\n",
    "lr_model.fit(X_train, y_train)\n",
    "\n",
    "# Predict on test data\n",
    "y_pred_lr = lr_model.predict(X_test)\n",
    "\n",
    "# Evaluate performance\n",
    "print(\"Logistic Regression Model Performance:\")\n",
    "print(\"Accuracy:\", accuracy_score(y_test, y_pred_lr))\n",
    "print(classification_report(y_test, y_pred_lr))\n",
    "\n",
    "\n",
    "#Explaination\n",
    "#Trains Naïve Bayes and Logistic Regression models.\n",
    "#Predicts sentiments on test data.\n",
    "#Computes accuracy and classification report."
   ]
  },
  {
   "cell_type": "code",
   "execution_count": 6,
   "id": "29066ad9-209d-4aff-b613-4629a766c4b6",
   "metadata": {},
   "outputs": [
    {
     "data": {
      "image/png": "[encoded data removed]",
      "text/plain": [
       "<Figure size 500x400 with 2 Axes>"
      ]
     },
     "metadata": {},
     "output_type": "display_data"
    },
    {
     "data": {
      "image/png": "[encoded data removed]",
      "text/plain": [
       "<Figure size 500x400 with 2 Axes>"
      ]
     },
     "metadata": {},
     "output_type": "display_data"
    }
   ],
   "source": [
    "#Model Evaluation\n",
    "#Plot confusion matrices to see where the model makes mistakes.\n",
    "\n",
    "# Plot confusion matrices\n",
    "def plot_confusion_matrix(y_true, y_pred, model_name):\n",
    "    cm = confusion_matrix(y_true, y_pred)\n",
    "    plt.figure(figsize=(5, 4))\n",
    "    sns.heatmap(cm, annot=True, fmt=\"d\", cmap=\"Blues\", xticklabels=[\"Negative\", \"Positive\"], yticklabels=[\"Negative\", \"Positive\"])\n",
    "    plt.xlabel(\"Predicted Label\")\n",
    "    plt.ylabel(\"True Label\")\n",
    "    plt.title(f\"Confusion Matrix - {model_name}\")\n",
    "    plt.show()\n",
    "\n",
    "plot_confusion_matrix(y_test, y_pred_nb, \"Naïve Bayes\")\n",
    "plot_confusion_matrix(y_test, y_pred_lr, \"Logistic Regression\")\n",
    "\n",
    "#Explaination\n",
    "#Confusion matrix helps visualize model errors."
   ]
  },
  {
   "cell_type": "code",
   "execution_count": 7,
   "id": "030a238a-4800-4dd3-9e13-c30f1181c694",
   "metadata": {},
   "outputs": [
    {
     "name": "stdout",
     "output_type": "stream",
     "text": [
      "Naïve Bayes Prediction:\n",
      "Review 1: Positive\n",
      "Review 2: Negative\n",
      "Logistic Regression Prediction:\n",
      "Review 1: Positive\n",
      "Review 2: Negative\n"
     ]
    }
   ],
   "source": [
    "#Predicting Sentiment for New Text\n",
    "#We can now test the model on custom input.\n",
    "\n",
    "def predict_sentiment(text, model):\n",
    "    text = clean_text(text)  # Preprocess input\n",
    "    text_tfidf = vectorizer.transform([text])  # Convert to numerical format\n",
    "    prediction = model.predict(text_tfidf)[0]\n",
    "    return \"Positive\" if prediction == 1 else \"Negative\"\n",
    "\n",
    "# Example predictions\n",
    "sample_review1 = \"This movie was fantastic! I really loved the characters and the story.\"\n",
    "sample_review2 = \"The film was terrible. I wasted my time watching it.\"\n",
    "\n",
    "print(\"Naïve Bayes Prediction:\")\n",
    "print(\"Review 1:\", predict_sentiment(sample_review1, nb_model))\n",
    "print(\"Review 2:\", predict_sentiment(sample_review2, nb_model))\n",
    "\n",
    "print(\"Logistic Regression Prediction:\")\n",
    "print(\"Review 1:\", predict_sentiment(sample_review1, lr_model))\n",
    "print(\"Review 2:\", predict_sentiment(sample_review2, lr_model))\n",
    "\n",
    "#Explanation:\n",
    "\n",
    "#Preprocesses custom input.\n",
    "#Uses trained models to predict sentiment.\n"
   ]
  },
  {
   "cell_type": "raw",
   "id": "da641cfd-c796-4115-b6c4-a35efd53d0bc",
   "metadata": {},
   "source": [
    "Evaluation / Insight\n",
    "Models Comparison:\n",
    "From the confusion matrices:\n",
    "\n",
    "Naïve Bayes:\n",
    "\n",
    "True Negatives (Correctly predicted negative reviews): 4208\n",
    "False Positives (Negative reviews wrongly classified as positive): 753\n",
    "False Negatives (Positive reviews wrongly classified as negative): 945\n",
    "True Positives (Correctly predicted positive reviews): 4094\n",
    "Logistic Regression:\n",
    "\n",
    "True Negatives: 4336 (Better than Naïve Bayes)\n",
    "False Positives: 625 (Fewer than Naïve Bayes → Better at avoiding false alarms)\n",
    "False Negatives: 872 (Better than Naïve Bayes)\n",
    "True Positives: 4126 (Better than Naïve Bayes)\n",
    "Comparison:\n",
    "Logistic Regression has higher True Positives and lower False Positives, meaning it's better at correctly identifying both positive and negative reviews.\n",
    "The Naïve Bayes model makes more incorrect predictions compared to Logistic Regression.\n",
    "Logistic Regression performs better overall!\n",
    "\n",
    "\n"
   ]
  }
 ],
 "metadata": {
  "kernelspec": {
   "display_name": "Python 3 (ipykernel)",
   "language": "python",
   "name": "python3"
  },
  "language_info": {
   "codemirror_mode": {
    "name": "ipython",
    "version": 3
   },
   "file_extension": ".py",
   "mimetype": "text/x-python",
   "name": "python",
   "nbconvert_exporter": "python",
   "pygments_lexer": "ipython3",
   "version": "3.11.7"
  }
 },
 "nbformat": 4,
 "nbformat_minor": 5
}
